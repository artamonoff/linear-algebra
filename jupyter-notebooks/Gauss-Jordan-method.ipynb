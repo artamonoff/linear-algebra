{
 "cells": [
  {
   "cell_type": "markdown",
   "id": "e67da6b1",
   "metadata": {},
   "source": [
    "# Gauss-Jordan elimination method in Python (Exercise 5 (b), p.31)"
   ]
  },
  {
   "cell_type": "code",
   "execution_count": null,
   "id": "1b93af61",
   "metadata": {},
   "outputs": [],
   "source": [
    "from sympy import *\n",
    "init_printing()\n",
    "A = Matrix([[0,0,1,1], [-2,-4,1,0], [3, 6, 0,1]])\n",
    "b = Matrix([1, 0, 0])\n",
    "A, b"
   ]
  },
  {
   "cell_type": "markdown",
   "id": "a4ba8c64",
   "metadata": {},
   "source": [
    "Augmented matrix (A|b)"
   ]
  },
  {
   "cell_type": "code",
   "execution_count": null,
   "id": "ad8a1183",
   "metadata": {},
   "outputs": [],
   "source": [
    "A_b = A.col_insert(4, b)\n",
    "A_b"
   ]
  },
  {
   "cell_type": "markdown",
   "id": "4394e3d6",
   "metadata": {},
   "source": [
    "Matrix ranks"
   ]
  },
  {
   "cell_type": "code",
   "execution_count": null,
   "id": "7472920e",
   "metadata": {},
   "outputs": [],
   "source": [
    "A.rank(), A_b.rank()"
   ]
  },
  {
   "cell_type": "markdown",
   "id": "03bb22c1",
   "metadata": {},
   "source": [
    "**Conclusion**: the system is consistent\n",
    "The result of Gauss-Jordan elimination method"
   ]
  },
  {
   "cell_type": "code",
   "execution_count": null,
   "id": "36db0abc",
   "metadata": {},
   "outputs": [],
   "source": [
    "A_b.rref()"
   ]
  },
  {
   "cell_type": "markdown",
   "id": "0e35b60d",
   "metadata": {},
   "source": [
    "The second matrix is the indices of basis variables"
   ]
  }
 ],
 "metadata": {
  "kernelspec": {
   "display_name": "Python 3 (ipykernel)",
   "language": "python",
   "name": "python3"
  },
  "language_info": {
   "codemirror_mode": {
    "name": "ipython",
    "version": 3
   },
   "file_extension": ".py",
   "mimetype": "text/x-python",
   "name": "python",
   "nbconvert_exporter": "python",
   "pygments_lexer": "ipython3",
   "version": "3.9.13"
  }
 },
 "nbformat": 4,
 "nbformat_minor": 5
}
