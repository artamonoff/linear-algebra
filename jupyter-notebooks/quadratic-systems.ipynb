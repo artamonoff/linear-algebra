{
 "cells": [
  {
   "cell_type": "markdown",
   "id": "78958fe1",
   "metadata": {},
   "source": [
    "# How to solve quadratic systems with Pyton (Exercise 14, (a), p.127)"
   ]
  },
  {
   "cell_type": "code",
   "execution_count": null,
   "id": "bf3cc805",
   "metadata": {},
   "outputs": [],
   "source": [
    "from sympy import *\n",
    "init_printing()\n",
    "A = Matrix([[1,1,1], [2,2,5], [4, 6, 8]])\n",
    "b = Matrix([4, 11, 24])\n",
    "A, b"
   ]
  },
  {
   "cell_type": "markdown",
   "id": "54b77763",
   "metadata": {},
   "source": [
    "Is it consistent?"
   ]
  },
  {
   "cell_type": "code",
   "execution_count": null,
   "id": "5f6422ba",
   "metadata": {},
   "outputs": [],
   "source": [
    "A.det()"
   ]
  },
  {
   "cell_type": "markdown",
   "id": "5d82b1b8",
   "metadata": {},
   "source": [
    "$\\det(A)\\ne0$, therefore the system is consistent\n",
    "Let's solve it using the inverse matrix $A^{-1}$\n",
    "# Solution via inverse matrix"
   ]
  },
  {
   "cell_type": "code",
   "execution_count": null,
   "id": "d6f8ebbf",
   "metadata": {},
   "outputs": [],
   "source": [
    "A**(-1)"
   ]
  },
  {
   "cell_type": "markdown",
   "id": "8f3666f0",
   "metadata": {},
   "source": [
    "Solution"
   ]
  },
  {
   "cell_type": "code",
   "execution_count": null,
   "id": "8a72e804",
   "metadata": {},
   "outputs": [],
   "source": [
    "(A**(-1))*b"
   ]
  },
  {
   "cell_type": "markdown",
   "id": "346f1e89",
   "metadata": {},
   "source": [
    "## Cramer's rule"
   ]
  },
  {
   "cell_type": "code",
   "execution_count": null,
   "id": "1c327392",
   "metadata": {},
   "outputs": [],
   "source": [
    "A1 = Matrix(A)\n",
    "A1[:,0]=b\n",
    "A1"
   ]
  },
  {
   "cell_type": "code",
   "execution_count": null,
   "id": "a0cceded",
   "metadata": {},
   "outputs": [],
   "source": [
    "print('x=', Rational(A1.det(), A.det()) )"
   ]
  },
  {
   "cell_type": "code",
   "execution_count": null,
   "id": "603d817a",
   "metadata": {},
   "outputs": [],
   "source": [
    "A2 = Matrix(A)\n",
    "A2[:,1]=b\n",
    "print('y=', Rational(A2.det(), A.det()) )"
   ]
  },
  {
   "cell_type": "code",
   "execution_count": null,
   "id": "dd2aedf6",
   "metadata": {},
   "outputs": [],
   "source": [
    "A3 = Matrix(A)\n",
    "A3[:,2]=b\n",
    "print('z=', Rational(A3.det(), A.det()) )"
   ]
  }
 ],
 "metadata": {
  "kernelspec": {
   "display_name": "Python 3 (ipykernel)",
   "language": "python",
   "name": "python3"
  },
  "language_info": {
   "codemirror_mode": {
    "name": "ipython",
    "version": 3
   },
   "file_extension": ".py",
   "mimetype": "text/x-python",
   "name": "python",
   "nbconvert_exporter": "python",
   "pygments_lexer": "ipython3",
   "version": "3.9.13"
  }
 },
 "nbformat": 4,
 "nbformat_minor": 5
}
