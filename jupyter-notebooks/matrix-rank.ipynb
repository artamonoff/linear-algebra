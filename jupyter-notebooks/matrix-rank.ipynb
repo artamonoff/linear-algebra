{
 "cells": [
  {
   "cell_type": "markdown",
   "id": "142cc49d",
   "metadata": {},
   "source": [
    "# How to calculate matrix rank with Pyton"
   ]
  },
  {
   "cell_type": "code",
   "execution_count": null,
   "id": "6c42c9e9",
   "metadata": {},
   "outputs": [],
   "source": [
    "from sympy import *\n",
    "init_printing()\n",
    "# how to set matrices\n",
    "# we fill matrices by rows\n",
    "A = Matrix([[1,3,4], [1,3,5], [2,6,9]])\n",
    "B = Matrix([1,2,3])\n",
    "A, B"
   ]
  },
  {
   "cell_type": "markdown",
   "id": "0678f6be",
   "metadata": {},
   "source": [
    "Matrix multiplicarion"
   ]
  },
  {
   "cell_type": "code",
   "execution_count": null,
   "id": "e3da3a7e",
   "metadata": {},
   "outputs": [],
   "source": [
    "A*B"
   ]
  },
  {
   "cell_type": "markdown",
   "id": "527fba33",
   "metadata": {},
   "source": [
    "We call rank() mathod to calulate matrix rank"
   ]
  },
  {
   "cell_type": "code",
   "execution_count": null,
   "id": "3a1ee2cf",
   "metadata": {},
   "outputs": [],
   "source": [
    "A.rank()"
   ]
  },
  {
   "cell_type": "code",
   "execution_count": null,
   "id": "3123b1fe",
   "metadata": {},
   "outputs": [],
   "source": [
    "B.rank()"
   ]
  },
  {
   "cell_type": "markdown",
   "id": "3b10df68",
   "metadata": {},
   "source": [
    "How to merge matrices"
   ]
  },
  {
   "cell_type": "code",
   "execution_count": null,
   "id": "766ce2ff",
   "metadata": {},
   "outputs": [],
   "source": [
    "A_B = A.col_insert(3, B)\n",
    "A_B"
   ]
  },
  {
   "cell_type": "markdown",
   "id": "acf76dd7",
   "metadata": {},
   "source": [
    "Matrix size"
   ]
  },
  {
   "cell_type": "code",
   "execution_count": null,
   "id": "e0b38a81",
   "metadata": {},
   "outputs": [],
   "source": [
    "shape(A), shape(A_B)"
   ]
  },
  {
   "cell_type": "markdown",
   "id": "b8c7925e",
   "metadata": {},
   "source": [
    "The determinant"
   ]
  },
  {
   "cell_type": "code",
   "execution_count": null,
   "id": "c96eed6b",
   "metadata": {},
   "outputs": [],
   "source": [
    "A.det()"
   ]
  },
  {
   "cell_type": "code",
   "execution_count": null,
   "id": "6e598af4",
   "metadata": {},
   "outputs": [],
   "source": [
    "C = Matrix([[1, 0, 0, -1], [0, -1, 1, 0], [2, 1, 0, 1], [-1, 0, 1, 0]])\n",
    "C"
   ]
  },
  {
   "cell_type": "code",
   "execution_count": null,
   "id": "753fc4ef",
   "metadata": {},
   "outputs": [],
   "source": [
    "C.det()"
   ]
  }
 ],
 "metadata": {
  "kernelspec": {
   "display_name": "Python 3 (ipykernel)",
   "language": "python",
   "name": "python3"
  },
  "language_info": {
   "codemirror_mode": {
    "name": "ipython",
    "version": 3
   },
   "file_extension": ".py",
   "mimetype": "text/x-python",
   "name": "python",
   "nbconvert_exporter": "python",
   "pygments_lexer": "ipython3",
   "version": "3.9.13"
  }
 },
 "nbformat": 4,
 "nbformat_minor": 5
}
